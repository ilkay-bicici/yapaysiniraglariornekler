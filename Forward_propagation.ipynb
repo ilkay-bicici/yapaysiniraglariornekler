{
  "nbformat": 4,
  "nbformat_minor": 0,
  "metadata": {
    "colab": {
      "provenance": []
    },
    "kernelspec": {
      "name": "python3",
      "display_name": "Python 3"
    },
    "language_info": {
      "name": "python"
    }
  },
  "cells": [
    {
      "cell_type": "markdown",
      "source": [
        "# **Feed Forward:**\n",
        "• Forward propagation için input olarak şu X matrisini verin (tensöre çevirmeyi unutmayın):\n",
        "\n",
        "*X = [[1 2 3],[4 5 6]]*\n",
        "\n",
        "Satırlar veriler (sample’lar), kolonlar öznitelikler (feature’lar).\n",
        "\n",
        "• Bir adet hidden layer olsun ve i¸cinde tanh aktivasyon fonksiyonu olsun\n",
        "\n",
        "• Hidden layer’da 50 nöron olsun\n",
        "\n",
        "• Bir adet output layer olsun, tek nöronu olsun ve içinde sigmoid aktivasyon fonksiyonu olsun. \n",
        "\n",
        "**Tanh fonksiyonu:**\n",
        "\n",
        "*f(x) = exp(x)−exp(−x) / exp(x)+exp(−x)*\n",
        "\n",
        "**Sigmoid fonksiyonu:**\n",
        "\n",
        "*f(x) = 1 / 1+exp(−x)*\n",
        "\n"
      ],
      "metadata": {
        "id": "5omnNt6S_6Lw"
      }
    },
    {
      "cell_type": "markdown",
      "source": [
        "# İlgili kütüphanelerin eklenmesi:"
      ],
      "metadata": {
        "id": "5ExC3JDwAkb9"
      }
    },
    {
      "cell_type": "code",
      "execution_count": 6,
      "metadata": {
        "id": "KdV7OlMZ-Y_s"
      },
      "outputs": [],
      "source": [
        "import torch\n",
        "import numpy as np"
      ]
    },
    {
      "cell_type": "markdown",
      "source": [
        "# Kendimizin tanımlamış olduğu aktivasyon fonksiyonlarımız:"
      ],
      "metadata": {
        "id": "HKl2IUl2BMt4"
      }
    },
    {
      "cell_type": "code",
      "source": [
        "def sigmoid_activation(x):\n",
        "\n",
        "  return 1 / (1 + torch.exp(-x))\n",
        "\n",
        "def tanh_activation(x):\n",
        "  \n",
        "  return (torch.exp(x) - torch.exp(-x)) / (torch.exp(x) + torch.exp(-x))"
      ],
      "metadata": {
        "id": "fIMJZgs1-wMg"
      },
      "execution_count": 8,
      "outputs": []
    },
    {
      "cell_type": "markdown",
      "source": [
        "# Seed değeri 1 için:"
      ],
      "metadata": {
        "id": "kBoZzYWPBSL2"
      }
    },
    {
      "cell_type": "code",
      "source": [
        "matrix = np.array([[1, 2, 3], [4, 5, 6]])\n",
        "\n",
        "# convert the vector to a PyTorch tensor\n",
        "tensor = torch.Tensor(matrix)\n",
        "tensor = tensor.T    #boyutlari uyussun diye transpozesini aldik.\n",
        "\n",
        "torch.manual_seed(1) #180401002\n",
        "\n",
        "# input layer to hidden layer weights and biases\n",
        "w1 = torch.randn(50, 3)\n",
        "b1 = torch.randn(50, 1)\n",
        "\n",
        "# hidden layer to output layer weights and biases\n",
        "w2 = torch.randn(1, 50)\n",
        "b2 = torch.randn(1, 1)\n",
        "\n",
        "# forward pass\n",
        "z1 = torch.matmul(w1, tensor) + b1  \n",
        "a1 = tanh_activation(z1)\n",
        "z2 = torch.matmul(w2, a1) + b2\n",
        "output = sigmoid_activation(z2)\n",
        "\n",
        "\n",
        "print(output)\n",
        "#print(tensor)  #tensor.size() or shape ile boyut ogrenilebilir"
      ],
      "metadata": {
        "colab": {
          "base_uri": "https://localhost:8080/"
        },
        "id": "f7Wq3OqL-whc",
        "outputId": "fa9c0f40-80ec-4165-d2c3-975ab6dc5b5d"
      },
      "execution_count": 13,
      "outputs": [
        {
          "output_type": "stream",
          "name": "stdout",
          "text": [
            "tensor([[0.3414, 0.4518]])\n"
          ]
        }
      ]
    },
    {
      "cell_type": "markdown",
      "source": [
        "# Seed değeri 180401002 için:"
      ],
      "metadata": {
        "id": "hhjiWjWEBghD"
      }
    },
    {
      "cell_type": "code",
      "source": [
        "matrix = np.array([[1, 2, 3], [4, 5, 6]])\n",
        "\n",
        "# convert the vector to a PyTorch tensor\n",
        "tensor = torch.Tensor(matrix)\n",
        "tensor = tensor.T    #boyutlari uyussun diye transpozesini aldik.\n",
        "\n",
        "torch.manual_seed(180401002)\n",
        "\n",
        "# input layer to hidden layer weights and biases\n",
        "w1 = torch.randn(50, 3)\n",
        "b1 = torch.randn(50, 1)\n",
        "\n",
        "# hidden layer to output layer weights and biases\n",
        "w2 = torch.randn(1, 50)\n",
        "b2 = torch.randn(1, 1)\n",
        "\n",
        "# forward pass\n",
        "z1 = torch.matmul(w1, tensor) + b1  \n",
        "a1 = tanh_activation(z1)\n",
        "z2 = torch.matmul(w2, a1) + b2\n",
        "output = sigmoid_activation(z2)\n",
        "\n",
        "\n",
        "print(output)"
      ],
      "metadata": {
        "colab": {
          "base_uri": "https://localhost:8080/"
        },
        "id": "ZGh8qDKb_u4f",
        "outputId": "9e6fee83-c985-495b-8785-1708cca8b8ca"
      },
      "execution_count": 12,
      "outputs": [
        {
          "output_type": "stream",
          "name": "stdout",
          "text": [
            "tensor([[0.0163, 0.1059]])\n"
          ]
        }
      ]
    },
    {
      "cell_type": "markdown",
      "source": [
        "# Yeni Bölüm"
      ],
      "metadata": {
        "id": "erp2iIoLBvGZ"
      }
    }
  ]
}